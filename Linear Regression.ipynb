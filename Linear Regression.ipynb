{
 "cells": [
  {
   "cell_type": "markdown",
   "metadata": {},
   "source": [
    "# Linear Regression with One Variable\n",
    "\n",
    "Regressão linear é um modelo de aprendizado supervisionado que pode ser utilizado para predizer valor de imóveis e identificar padrões lineares quando existem uma ou mais variaveis de entrada.\n",
    "\n",
    "Ele é capaz de predizer qual será o valor real a partir dos dados de entrada.\n",
    "\n",
    "Notação:\n",
    "\n",
    "\"m\": número de registros no banco de dados de treinamento\n",
    "\"x\": variáveis de entrada (também conhecido como features [colunas])\n",
    "\"y\": variáveis de saída (dado um valor de X, qual será o valor esperado em Y)\n",
    "\"(x, y)\": exemplo simples de treinamento\n",
    "\n",
    "## Linear Regression com 1 variável\n",
    "\n",
    "Como o nome diz, recebe apenas uma variável de entrada.\n",
    "\n",
    "\\begin{align*}\n",
    "h_\\theta(x) = \\theta_0 + \\theta_1 x\n",
    "\\end{align*}\n",
    "\n",
    "Função Hipotesis:\n",
    "Y = β0 + β1 * X\n",
    "\n",
    "O Objetivo é identificar os valores corretos de β0 e β1 de uma maneira que a linha esteja dentro dos dados de treinamento. Uma vez que estes parâmetros estiverem OK o valor de Y irá predizer com sucesso o valor de Y quando é dado um valor de X.\n",
    "\n",
    "Para fazer isso utilizamos a função de custo (Cost Function) que é igual ao mostrado abaixo:"
   ]
  },
  {
   "cell_type": "markdown",
   "metadata": {},
   "source": [
    "\\begin{align*}\n",
    "J(\\theta_0, \\theta_1) = \\dfrac {1}{2m} \\displaystyle \\sum _{i=1}^m \\left (h_\\theta (x^{(i)}) - y^{(i)} \\right)^2\n",
    "\\end{align*}"
   ]
  },
  {
   "cell_type": "code",
   "execution_count": 2,
   "metadata": {
    "collapsed": true
   },
   "outputs": [],
   "source": [
    "# Import numpy for linear algebra and numerical computing functions, and matplotlib for plotting graphs\n",
    "import numpy as np\n",
    "from numpy import ones, zeros, newaxis, r_, c_, mat, dot\n",
    "import matplotlib.pyplot as plt\n",
    "\n",
    "# Enable matplotlib inline plotting for this notebook\n",
    "%matplotlib inline"
   ]
  },
  {
   "cell_type": "code",
   "execution_count": 54,
   "metadata": {
    "collapsed": true
   },
   "outputs": [],
   "source": [
    "x = [1, 2, 3]\n",
    "y = [1, 2, 3] "
   ]
  },
  {
   "cell_type": "code",
   "execution_count": 55,
   "metadata": {
    "collapsed": false
   },
   "outputs": [
    {
     "name": "stdout",
     "output_type": "stream",
     "text": [
      "result[0, 0] = 1.000000\n",
      "result[1, 0] = 2.000000\n",
      "result[2, 0] = 3.000000\n"
     ]
    },
    {
     "data": {
      "image/png": "[encoded data removed]",
      "text/plain": [
       "<matplotlib.figure.Figure at 0x21c23128>"
      ]
     },
     "metadata": {},
     "output_type": "display_data"
    }
   ],
   "source": [
    "def hypothesis_function(x, m, b0, b1):\n",
    "    result = zeros(shape=(m, 1))\n",
    "    for i in range(m):\n",
    "        result[i, 0] = b0 + b1*x[i]\n",
    "        print 'result[%d, 0] = %f' % (i, result[i, 0])\n",
    "    return result\n",
    "\n",
    "theta_0 = 0\n",
    "theta_1 = 1\n",
    "\n",
    "y_hypothesis = hypothesis_function(x, 3, theta_0, theta_1)\n",
    "\n",
    "plt.scatter(x, y, marker='o', c='b') # Marca os valores de dados normalmente\n",
    "plt.plot(x, y_hypothesis)            # Traca a linha de hipotese do algoritmo com os valores\n",
    "plt.xlabel('b1')\n",
    "plt.ylabel('J(b1)')\n",
    "plt.show()"
   ]
  },
  {
   "cell_type": "code",
   "execution_count": 58,
   "metadata": {
    "collapsed": false
   },
   "outputs": [
    {
     "name": "stdout",
     "output_type": "stream",
     "text": [
      "cost: 0.000000\n"
     ]
    }
   ],
   "source": [
    "# Implementação do Cost Function e um teste para verificar se está correto\n",
    "def cost_function(x, y, m, theta_0, theta_1):\n",
    "    result = float(1) / float(2*m)\n",
    "    sqerror = float(0)\n",
    "    for i in range(m):\n",
    "        sqerror += ( (theta_0 + theta_1 * x[i]) - y[i] ) ** 2\n",
    "    return result*sqerror\n",
    "\n",
    "# Devera retornar 0 para esta matriz de treino\n",
    "cost = cost_function(x, y, 3, 0, 1)\n",
    "\n",
    "print 'cost: %f' % cost"
   ]
  },
  {
   "cell_type": "markdown",
   "metadata": {},
   "source": [
    "Como o objetivo deste algoritmo é achar o menor valor possível da função de custo. Vamos traçar um gráfico para facilmente encontrar este valor mínimo."
   ]
  },
  {
   "cell_type": "code",
   "execution_count": 21,
   "metadata": {
    "collapsed": false
   },
   "outputs": [
    {
     "name": "stdout",
     "output_type": "stream",
     "text": [
      "J(0) = 2.333333\n",
      "J(1) = 0.000000\n",
      "J(2) = 2.333333\n",
      "J(3) = 9.333333\n",
      "J(4) = 21.000000\n",
      "J(-5) = 84.000000\n",
      "J(-4) = 58.333333\n",
      "J(-3) = 37.333333\n",
      "J(-2) = 21.000000\n",
      "J(-1) = 9.333333\n"
     ]
    },
    {
     "data": {
      "image/png": "[encoded data removed]",
      "text/plain": [
       "<matplotlib.figure.Figure at 0xa66ab38>"
      ]
     },
     "metadata": {},
     "output_type": "display_data"
    }
   ],
   "source": [
    "b1_values = range(-5, 5)\n",
    "J_history = zeros(shape=(len(b1_values)))\n",
    "for i in b1_values:\n",
    "    print 'J(%d) = %f' % (b1_values[i], cost_function(x, y, 3, b1_values[i]))\n",
    "    J_history[i] = cost_function(x, y, 3, b1_values[i])\n",
    "\n",
    "\n",
    "plt.plot(b1_values, J_history)\n",
    "plt.xlabel('b1')\n",
    "plt.ylabel('J(b1)')\n",
    "plt.show()"
   ]
  },
  {
   "cell_type": "markdown",
   "metadata": {},
   "source": [
    "No exemplo acima o melhor valor para β1 é 1 (Veja a linha com o menor valor que é J(1) = 0.000000). Pois neste conjunto de dados é o menor valor de custo.\n",
    "\n",
    "Porém deixamos fixo o valor de β0 para 0. Este é um exemplo simples, porém em exemplos mais complexos é importante descobrir o mais breve possível o valor de β0 e β1 ao mesmo tempo. Por isso utilizamos o Gradient Descendent."
   ]
  },
  {
   "cell_type": "markdown",
   "metadata": {},
   "source": [
    "## Gradient Descendent\n",
    "\n",
    "Este algoritmo é utilizado para identificar automaticamente os valores de β1 e β2.\n",
    "\n",
    "\\begin{align*}\n",
    "\\text{repeat until convergence: } \\lbrace & \\newline \n",
    "\\theta_0 := & \\theta_0 - \\alpha \\frac{1}{m} \\sum\\limits_{i=1}^{m}(h_\\theta(x^{(i)}) - y^{(i)}) \\newline\n",
    "\\theta_1 := & \\theta_1 - \\alpha \\frac{1}{m} \\sum\\limits_{i=1}^{m}\\left((h_\\theta(x^{(i)}) - y^{(i)}) x^{(i)}\\right) \\newline\n",
    "\\rbrace&\n",
    "\\end{align*}"
   ]
  },
  {
   "cell_type": "markdown",
   "metadata": {},
   "source": [
    "O objetivo é adicionar o Gradient Descendent com o objetivo de minimizar o erro quadratico da função. Para calcular o erro\n",
    "(Squared Error) basta usar a função abaixo:"
   ]
  },
  {
   "cell_type": "code",
   "execution_count": 22,
   "metadata": {
    "collapsed": true
   },
   "outputs": [],
   "source": [
    "def calc_squared_error(x, y, m, theta_0, theta_1):\n",
    "    return sum([(theta_0 + theta_1 * x[i] - y[i])**2 for i in range(m)] )"
   ]
  },
  {
   "cell_type": "code",
   "execution_count": 28,
   "metadata": {
    "collapsed": false
   },
   "outputs": [],
   "source": [
    "def gradient_descendent(x, y, m, alpha, iterations):\n",
    "    theta_0 = float(np.random.random(1))\n",
    "    theta_1 = float(np.random.random(1))\n",
    "\n",
    "    for iter in range(iterations):\n",
    "        n_sum = sum([(theta_0 + theta_1 * x[i]) - y[i] for i in range(m)])\n",
    "        tmp = theta_0 - alpha * ((float(1) / float(m)) * float(n_sum))\n",
    "        theta_0 = tmp\n",
    "\n",
    "        n_sum = sum([((theta_0 + theta_1 * x[i]) - y[i]) * x[i] for i in range(m)])\n",
    "        tmp = theta_1 - alpha * ((float(1) / float(m)) * float(n_sum))\n",
    "        theta_1 = tmp\n",
    "\n",
    "        error = calc_squared_error(x, y, m, theta_0, theta_1)\n",
    "        if abs(error) <= 0.01:\n",
    "            print '[%d]: cost_theta_0(%f), cost_theta_1(%f) (error: %f)' % (iter, cost_function(x, y, m, theta_0), cost_function(x, y, m, theta_1), calc_squared_error(x, y, m, theta_0, theta_1))\n",
    "            return theta_0, theta_1"
   ]
  },
  {
   "cell_type": "code",
   "execution_count": 38,
   "metadata": {
    "collapsed": false
   },
   "outputs": [
    {
     "name": "stdout",
     "output_type": "stream",
     "text": [
      "[112]: cost_theta_0(1.676347), cost_theta_1(0.010259) (error: 0.009967)\n",
      "result[0, 0] = 1.086086\n",
      "result[1, 0] = 2.019778\n",
      "result[2, 0] = 2.953469\n"
     ]
    },
    {
     "data": {
      "image/png": "[encoded data removed]",
      "text/plain": [
       "<matplotlib.figure.Figure at 0xbb6c240>"
      ]
     },
     "metadata": {},
     "output_type": "display_data"
    }
   ],
   "source": [
    "theta_0, theta_1 = gradient_descendent(x, y, 3, 0.1, 15000)\n",
    "\n",
    "# Agora que temos os valores de theta_0 e theta_1 (que são os parametros que encontramos anteriormente) \n",
    "# Vamos utilizar nossa função de hipotese\n",
    "y_hypothesis = hypothesis_function(x, 3, theta_0, theta_1)\n",
    "\n",
    "plt.scatter(x, y, marker='o', c='b') # Marca os valores de dados normalmente\n",
    "plt.plot(x, y_hypothesis)            # Traca a linha de hipotese do algoritmo com os valores\n",
    "plt.xlabel('b1')\n",
    "plt.ylabel('J(b1)')\n",
    "plt.show()"
   ]
  },
  {
   "cell_type": "markdown",
   "metadata": {},
   "source": [
    "## Exercicios"
   ]
  },
  {
   "cell_type": "markdown",
   "metadata": {},
   "source": [
    "Consider the following training set of m=4 training examples:\n",
    "\n",
    "   x   \t   y   \n",
    "   1   \t   0.5   \n",
    "   2   \t   1   \n",
    "   4   \t   2   \n",
    "   0   \t   0   \n",
    "   \n",
    "Consider the linear regression model hθ(x)=θ0+θ1x. What are the values of θ0 and θ1 that you would expect to obtain upon running gradient descent on this model? (Linear regression will be able to fit this data perfectly.)"
   ]
  },
  {
   "cell_type": "code",
   "execution_count": 46,
   "metadata": {
    "collapsed": false
   },
   "outputs": [
    {
     "name": "stdout",
     "output_type": "stream",
     "text": [
      "[29]: cost_theta_0(0.472576), cost_theta_1(0.001803) (error: 0.009571)\n",
      "result[0, 0] = 0.549495\n",
      "result[1, 0] = 1.023288\n",
      "result[2, 0] = 1.970874\n",
      "result[3, 0] = 0.075702\n"
     ]
    },
    {
     "data": {
      "image/png": "[encoded data removed]",
      "text/plain": [
       "<matplotlib.figure.Figure at 0xb86de48>"
      ]
     },
     "metadata": {},
     "output_type": "display_data"
    },
    {
     "name": "stdout",
     "output_type": "stream",
     "text": [
      "Resposta>> theta_0: 0.075702, theta_1: 0.473793\n"
     ]
    }
   ],
   "source": [
    "x = [1, 2, 4, 0]\n",
    "y = [0.5, 1, 2, 0]\n",
    "m = len(x)\n",
    "\n",
    "theta_0, theta_1 = gradient_descendent(x, y, m, 0.1, 15000)\n",
    "\n",
    "y_hypothesis = hypothesis_function(x, m, theta_0, theta_1)\n",
    "\n",
    "plt.scatter(x, y, marker='o', c='b') # Marca os valores de dados normalmente\n",
    "plt.plot(x, y_hypothesis)            # Traca a linha de hipotese do algoritmo com os valores\n",
    "plt.xlabel('b1')\n",
    "plt.ylabel('J(b1)')\n",
    "plt.show()\n",
    "\n",
    "print 'Resposta>> theta_0: %f, theta_1: %f' % (theta_0, theta_1)"
   ]
  },
  {
   "cell_type": "markdown",
   "metadata": {},
   "source": [
    "Suppose we set θ0=0,θ1=1.5. What is hθ(2)?"
   ]
  },
  {
   "cell_type": "code",
   "execution_count": 51,
   "metadata": {
    "collapsed": false
   },
   "outputs": [
    {
     "name": "stdout",
     "output_type": "stream",
     "text": [
      "result[0, 0] = 11.000000\n",
      "Resposta>> 11.000000\n"
     ]
    }
   ],
   "source": [
    "y_hypothesis = hypothesis_function([6], 1, 0, 1)\n",
    "print 'Resposta>> %f' % y_hypothesis\n",
    "\n",
    "# ATENÇÃO: Estou considerando que o indice começa a partir do zero (verificar isso)"
   ]
  },
  {
   "cell_type": "markdown",
   "metadata": {},
   "source": [
    "\n",
    "(V) If θ0 and θ1 are initialized at the global minimum, the one iteration will not change their values.\n",
    "(V) If the first few iterations of gradient descent cause f(θ0,θ1) to increase rather than decrease, then the most likely cause is that we have set the learning rate α to too large a value.\n",
    "(V)Setting the learning rate α to be very small is not harmful, and can only speed up the convergence of gradient descent.\n",
    "(F) Even if the learning rate α is very large, every iteration of gradient descent will decrease the value of f(θ0,θ1).\n"
   ]
  },
  {
   "cell_type": "code",
   "execution_count": null,
   "metadata": {
    "collapsed": true
   },
   "outputs": [],
   "source": [
    "(F) NO We can perfectly predict the value of y even for new examples that we have not yet seen.\n",
    "\n",
    "( ) NO This is not possible: By the definition of J(θ0,θ1), it is not possible for there to exist θ0 and θ1 so that J(θ0,θ1)=0\tCorrect\t0.25\t\n",
    "    -- If all of our training examples lie perfectly on a line, then J(θ0,θ1)=0 is possible.\n",
    "\n"
   ]
  },
  {
   "cell_type": "markdown",
   "metadata": {},
   "source": [
    "2- \n",
    "For this question, continue to assume that we are\n",
    "\n",
    "using the training set given above. Recall our definition of the\n",
    "\n",
    "cost function was J(θ0,θ1)=12m∑mi=1(hθ(x(i))−y(i))2.\n",
    "\n",
    "What is J(0,1)? In the box below,\n",
    "\n",
    "please enter your answer (use decimals instead of fractions if necessary, e.g., 1.5)."
   ]
  },
  {
   "cell_type": "code",
   "execution_count": 62,
   "metadata": {
    "collapsed": false
   },
   "outputs": [
    {
     "name": "stdout",
     "output_type": "stream",
     "text": [
      "0.5\n"
     ]
    }
   ],
   "source": [
    "x = [3, 1, 0, 4]\n",
    "y = [2, 2, 1, 3]\n",
    "\n",
    "print cost_function(x, y, 3, 0, 1)"
   ]
  },
  {
   "cell_type": "markdown",
   "metadata": {},
   "source": [
    "3- Suppose we set θ0=−2,θ1=0.5. What is hθ(6)?"
   ]
  },
  {
   "cell_type": "code",
   "execution_count": 63,
   "metadata": {
    "collapsed": false
   },
   "outputs": [
    {
     "name": "stdout",
     "output_type": "stream",
     "text": [
      "result[0, 0] = 1.000000\n",
      "[[ 1.]]\n"
     ]
    }
   ],
   "source": [
    "print hypothesis_function([6], 1, -2, 0.5)"
   ]
  },
  {
   "cell_type": "markdown",
   "metadata": {},
   "source": [
    "Let f be some function so that f(θ0,θ1) outputs a number. For this problem, f is some arbitrary/unknown smooth function (not necessarily the cost function of linear regression, so f may have local optima). Suppose we use gradient descent to try to minimize f(θ0,θ1) as a function of θ0 and θ1. Which of the following statements are true? (Check all that apply.)\n",
    "\n",
    "(V) If the learning rate is too small, then gradient descent may take a very long time to converge.\n",
    "    ### Exp> Se a taxa de aprendizado é muito pequena, a função gradient descent torna cada passo algo muito pequeno a cada iteração, consequentemente irá levar mais tempo para convergir.\n",
    "    \n",
    "(F) Even if the learning rate α is very large, every iteration of gradient descent will decrease the value of f(θ0,θ1).\n",
    "    ### Exp> Se a taxa de aprendizado for muito grande, ele irá dar uma série de grandes \"tiros\" e irá facilmente incrementar substancialmente o valor de f(θ0,θ1).\n",
    "    \n",
    "(F) If θ0 and θ1 are initialized so that θ0=θ1, then by symmetry (because we do simultaneous updates to the two parameters), after one iteration of gradient descent, we will still have θ0=θ1.\n",
    "    ### Exp> Apesar de ser dito que as atualizações são feitas simultaneamente eles são feitos em momentos diferentes, então não existe nenhuma razão particular para isso ser verdade.\n",
    "    \n",
    "(V) If θ0 and θ1 are initialized at a local minimum, then one iteration will not change their values.\n",
    "    ### Exp> No mínimo global, o gradient é zero, então ele não irá alterar os valores.\n",
    "    "
   ]
  },
  {
   "cell_type": "markdown",
   "metadata": {},
   "source": [
    "5- Suppose that for some linear regression problem (say, predicting housing prices as in the lecture), we have some training set, and for our training set we managed to find some θ0, θ1 such that J(θ0,θ1)=0. Which of the statements below must then be true? (Check all that apply.)\n",
    "\n",
    "(F) For this to be true, we must have y(i)=0 for every value of i=1,2,…,m.\n",
    "\n",
    "(V) Our training set can be fit perfectly by a straight line, i.e., all of our training examples lie perfectly on some straight line.\n",
    "\n",
    "(F) For this to be true, we must have θ0=0 and θ1=0 so that hθ(x)=0\n",
    "    \n",
    "(F) Gradient descent is likely to get stuck at a local minimum and fail to find the global minimum.\n"
   ]
  },
  {
   "cell_type": "markdown",
   "metadata": {},
   "source": [
    "# Links úteis\n",
    "\n",
    "http://aimotion.blogspot.com.br/2011/10/machine-learning-with-python-linear.html\n",
    "https://github.com/adamwalz/mlclass_ipython/blob/master/notebooks/Ex1%20-%20Linear%20Regression%20with%20One%20Variable.ipynb"
   ]
  },
  {
   "cell_type": "code",
   "execution_count": null,
   "metadata": {
    "collapsed": true
   },
   "outputs": [],
   "source": []
  }
 ],
 "metadata": {
  "kernelspec": {
   "display_name": "Python 2",
   "language": "python",
   "name": "python2"
  },
  "language_info": {
   "codemirror_mode": {
    "name": "ipython",
    "version": 2
   },
   "file_extension": ".py",
   "mimetype": "text/x-python",
   "name": "python",
   "nbconvert_exporter": "python",
   "pygments_lexer": "ipython2",
   "version": "2.7.10"
  }
 },
 "nbformat": 4,
 "nbformat_minor": 0
}
